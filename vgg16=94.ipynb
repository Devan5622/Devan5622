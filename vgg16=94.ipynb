{
  "nbformat": 4,
  "nbformat_minor": 0,
  "metadata": {
    "colab": {
      "name": "Untitled0.ipynb",
      "provenance": [],
      "mount_file_id": "1Ik_VauEoTmmdfCiCqbf1BRNfL3InvdeP",
      "authorship_tag": "ABX9TyNtVM3uCiq1E3Z8eRMnYVAD",
      "include_colab_link": true
    },
    "kernelspec": {
      "name": "python3",
      "display_name": "Python 3"
    },
    "language_info": {
      "name": "python"
    },
    "accelerator": "GPU"
  },
  "cells": [
    {
      "cell_type": "markdown",
      "metadata": {
        "id": "view-in-github",
        "colab_type": "text"
      },
      "source": [
        "<a href=\"https://colab.research.google.com/github/Devan5622/Devan5622/blob/main/vgg16%3D94.ipynb\" target=\"_parent\"><img src=\"https://colab.research.google.com/assets/colab-badge.svg\" alt=\"Open In Colab\"/></a>"
      ]
    },
    {
      "cell_type": "code",
      "execution_count": 16,
      "metadata": {
        "colab": {
          "base_uri": "https://localhost:8080/"
        },
        "id": "0M9ugqaArOfW",
        "outputId": "97af3b69-e1c0-46e5-f741-cf6ebd2e75a2"
      },
      "outputs": [
        {
          "output_type": "stream",
          "name": "stderr",
          "text": [
            "/usr/local/lib/python3.7/dist-packages/tensorflow/python/client/session.py:1768: UserWarning: An interactive session is already active. This can cause out-of-memory errors in some cases. You must explicitly call `InteractiveSession.close()` to release resources held by the other session(s).\n",
            "  warnings.warn('An interactive session is already active. This can '\n"
          ]
        }
      ],
      "source": [
        "from tensorflow.compat.v1 import ConfigProto\n",
        "from tensorflow.compat.v1 import InteractiveSession\n",
        "\n",
        "config = ConfigProto()\n",
        "config.gpu_options.per_process_gpu_memory_fraction = 0.5\n",
        "config.gpu_options.allow_growth = True\n",
        "session = InteractiveSession(config=config)\n",
        "# import the libraries as shown below\n",
        "\n",
        "from tensorflow.keras.layers import Input, Lambda, Dense, Flatten\n",
        "from tensorflow.keras.models import Model\n",
        "#from tensorflow.keras.applications.resnet50 import ResNet50\n",
        "from tensorflow.keras.applications.vgg16 import VGG16\n",
        "from tensorflow.keras.applications.vgg16 import preprocess_input\n",
        "from tensorflow.keras.preprocessing import image\n",
        "from tensorflow.keras.preprocessing.image import ImageDataGenerator,load_img\n",
        "from tensorflow.keras.models import Sequential\n",
        "import numpy as np\n",
        "from glob import glob\n",
        "#import matplotlib.pyplot as plt\n",
        "# re-size all the images to this\n",
        "IMAGE_SIZE = [224, 224]\n",
        "\n",
        "train_path = '/content/drive/MyDrive/Alzheimer-Dataset/train'\n",
        "valid_path = '/content/drive/MyDrive/Alzheimer-Dataset/test'"
      ]
    },
    {
      "cell_type": "code",
      "source": [
        "# Import the Vgg 16 library as shown below and add preprocessing layer to the front of VGG\n",
        "# Here we will be using imagenet weights\n",
        "\n",
        "vgg = VGG16(input_shape=IMAGE_SIZE + [3], weights='imagenet', include_top=False)\n",
        "# don't train existing weights\n",
        "for layer in vgg.layers:\n",
        "    layer.trainable = False\n",
        "\n",
        "  # useful for getting number of output classes\n",
        "folders = glob('/content/drive/MyDrive/Alzheimer-Dataset/train/*')\n",
        "# our layers - you can add more if you want\n",
        "x = Flatten()(vgg.output)\n",
        "prediction = Dense(len(folders), activation='softmax')(x)\n",
        "\n",
        "# create a model object\n",
        "model = Model(inputs=vgg.input, outputs=prediction)\n",
        "# view the structure of the model\n",
        "model.summary()"
      ],
      "metadata": {
        "colab": {
          "base_uri": "https://localhost:8080/"
        },
        "id": "lU_6fI-bsD3b",
        "outputId": "6dfc1bbf-268e-4115-d1d0-2b724cd46b8b"
      },
      "execution_count": 17,
      "outputs": [
        {
          "output_type": "stream",
          "name": "stdout",
          "text": [
            "Downloading data from https://storage.googleapis.com/tensorflow/keras-applications/vgg16/vgg16_weights_tf_dim_ordering_tf_kernels_notop.h5\n",
            "58892288/58889256 [==============================] - 0s 0us/step\n",
            "58900480/58889256 [==============================] - 0s 0us/step\n",
            "Model: \"model_4\"\n",
            "_________________________________________________________________\n",
            " Layer (type)                Output Shape              Param #   \n",
            "=================================================================\n",
            " input_5 (InputLayer)        [(None, 224, 224, 3)]     0         \n",
            "                                                                 \n",
            " block1_conv1 (Conv2D)       (None, 224, 224, 64)      1792      \n",
            "                                                                 \n",
            " block1_conv2 (Conv2D)       (None, 224, 224, 64)      36928     \n",
            "                                                                 \n",
            " block1_pool (MaxPooling2D)  (None, 112, 112, 64)      0         \n",
            "                                                                 \n",
            " block2_conv1 (Conv2D)       (None, 112, 112, 128)     73856     \n",
            "                                                                 \n",
            " block2_conv2 (Conv2D)       (None, 112, 112, 128)     147584    \n",
            "                                                                 \n",
            " block2_pool (MaxPooling2D)  (None, 56, 56, 128)       0         \n",
            "                                                                 \n",
            " block3_conv1 (Conv2D)       (None, 56, 56, 256)       295168    \n",
            "                                                                 \n",
            " block3_conv2 (Conv2D)       (None, 56, 56, 256)       590080    \n",
            "                                                                 \n",
            " block3_conv3 (Conv2D)       (None, 56, 56, 256)       590080    \n",
            "                                                                 \n",
            " block3_pool (MaxPooling2D)  (None, 28, 28, 256)       0         \n",
            "                                                                 \n",
            " block4_conv1 (Conv2D)       (None, 28, 28, 512)       1180160   \n",
            "                                                                 \n",
            " block4_conv2 (Conv2D)       (None, 28, 28, 512)       2359808   \n",
            "                                                                 \n",
            " block4_conv3 (Conv2D)       (None, 28, 28, 512)       2359808   \n",
            "                                                                 \n",
            " block4_pool (MaxPooling2D)  (None, 14, 14, 512)       0         \n",
            "                                                                 \n",
            " block5_conv1 (Conv2D)       (None, 14, 14, 512)       2359808   \n",
            "                                                                 \n",
            " block5_conv2 (Conv2D)       (None, 14, 14, 512)       2359808   \n",
            "                                                                 \n",
            " block5_conv3 (Conv2D)       (None, 14, 14, 512)       2359808   \n",
            "                                                                 \n",
            " block5_pool (MaxPooling2D)  (None, 7, 7, 512)         0         \n",
            "                                                                 \n",
            " flatten_4 (Flatten)         (None, 25088)             0         \n",
            "                                                                 \n",
            " dense_4 (Dense)             (None, 4)                 100356    \n",
            "                                                                 \n",
            "=================================================================\n",
            "Total params: 14,815,044\n",
            "Trainable params: 100,356\n",
            "Non-trainable params: 14,714,688\n",
            "_________________________________________________________________\n"
          ]
        }
      ]
    },
    {
      "cell_type": "code",
      "source": [
        "# tell the model what cost and optimization method to use\n",
        "model.compile(\n",
        "  loss='categorical_crossentropy',\n",
        "  optimizer='adam',\n",
        "  metrics=['accuracy']\n",
        ")\n",
        "# Use the Image Data Generator to import the images from the dataset\n",
        "from tensorflow.keras.preprocessing.image import ImageDataGenerator\n",
        "\n",
        "train_datagen = ImageDataGenerator(rescale = 1./255,\n",
        "                                   shear_range = 0.2,\n",
        "                                   zoom_range = 0.2,\n",
        "                                   horizontal_flip = True)"
      ],
      "metadata": {
        "id": "bze74Xu86r3s"
      },
      "execution_count": 18,
      "outputs": []
    },
    {
      "cell_type": "code",
      "source": [
        "test_datagen = ImageDataGenerator(rescale = 1./255)\n",
        "# Make sure you provide the same target size as initialied for the image size\n",
        "training_set = train_datagen.flow_from_directory('/content/drive/MyDrive/Alzheimer-Dataset/train',\n",
        "                                                 target_size = (224, 224),\n",
        "                                                 batch_size =10,\n",
        "                                                 class_mode = 'categorical')"
      ],
      "metadata": {
        "colab": {
          "base_uri": "https://localhost:8080/"
        },
        "id": "HV0GObPL6zqq",
        "outputId": "e5586db6-630c-4a71-eeb7-6f9fdbb1921c"
      },
      "execution_count": 19,
      "outputs": [
        {
          "output_type": "stream",
          "name": "stdout",
          "text": [
            "Found 5121 images belonging to 4 classes.\n"
          ]
        }
      ]
    },
    {
      "cell_type": "code",
      "source": [
        "test_set = test_datagen.flow_from_directory('/content/drive/MyDrive/Alzheimer-Dataset/test',\n",
        "                                            target_size = (224, 224),\n",
        "                                            batch_size = 10,\n",
        "                                            class_mode = 'categorical')"
      ],
      "metadata": {
        "colab": {
          "base_uri": "https://localhost:8080/"
        },
        "id": "stCCFnAy65jy",
        "outputId": "cb6861d0-de05-43cf-f177-18cb07474026"
      },
      "execution_count": 20,
      "outputs": [
        {
          "output_type": "stream",
          "name": "stdout",
          "text": [
            "Found 1279 images belonging to 4 classes.\n"
          ]
        }
      ]
    },
    {
      "cell_type": "code",
      "source": [
        "# fit the model\n",
        "# Run the cell. It will take some time to execute\n",
        "r = model.fit_generator(\n",
        "  training_set,\n",
        "  validation_data=test_set,\n",
        "  epochs=100,\n",
        "  steps_per_epoch=len(training_set),\n",
        "  validation_steps=len(test_set)\n",
        ")"
      ],
      "metadata": {
        "colab": {
          "base_uri": "https://localhost:8080/"
        },
        "id": "XYMJpzvM7B99",
        "outputId": "f9e591d9-09b4-41c3-bfab-0a0afd341cc3"
      },
      "execution_count": 21,
      "outputs": [
        {
          "output_type": "stream",
          "name": "stdout",
          "text": [
            "Epoch 1/100\n"
          ]
        },
        {
          "output_type": "stream",
          "name": "stderr",
          "text": [
            "/usr/local/lib/python3.7/dist-packages/ipykernel_launcher.py:8: UserWarning: `Model.fit_generator` is deprecated and will be removed in a future version. Please use `Model.fit`, which supports generators.\n",
            "  \n"
          ]
        },
        {
          "output_type": "stream",
          "name": "stdout",
          "text": [
            "513/513 [==============================] - 83s 157ms/step - loss: 1.0875 - accuracy: 0.5702 - val_loss: 0.9114 - val_accuracy: 0.6138\n",
            "Epoch 2/100\n",
            "513/513 [==============================] - 78s 151ms/step - loss: 0.8944 - accuracy: 0.6462 - val_loss: 1.4449 - val_accuracy: 0.5582\n",
            "Epoch 3/100\n",
            "513/513 [==============================] - 78s 152ms/step - loss: 0.8420 - accuracy: 0.6782 - val_loss: 1.1956 - val_accuracy: 0.6255\n",
            "Epoch 4/100\n",
            "513/513 [==============================] - 78s 152ms/step - loss: 0.6868 - accuracy: 0.7133 - val_loss: 1.8359 - val_accuracy: 0.5293\n",
            "Epoch 5/100\n",
            "513/513 [==============================] - 78s 153ms/step - loss: 0.7305 - accuracy: 0.7241 - val_loss: 1.1485 - val_accuracy: 0.6341\n",
            "Epoch 6/100\n",
            "513/513 [==============================] - 78s 152ms/step - loss: 0.7125 - accuracy: 0.7348 - val_loss: 0.9487 - val_accuracy: 0.6607\n",
            "Epoch 7/100\n",
            "513/513 [==============================] - 77s 151ms/step - loss: 0.6832 - accuracy: 0.7458 - val_loss: 1.3482 - val_accuracy: 0.6427\n",
            "Epoch 8/100\n",
            "513/513 [==============================] - 78s 153ms/step - loss: 0.5891 - accuracy: 0.7661 - val_loss: 1.4861 - val_accuracy: 0.5911\n",
            "Epoch 9/100\n",
            "513/513 [==============================] - 78s 152ms/step - loss: 0.5386 - accuracy: 0.7870 - val_loss: 1.2620 - val_accuracy: 0.6372\n",
            "Epoch 10/100\n",
            "513/513 [==============================] - 77s 151ms/step - loss: 0.5331 - accuracy: 0.7911 - val_loss: 1.1017 - val_accuracy: 0.6732\n",
            "Epoch 11/100\n",
            "513/513 [==============================] - 78s 152ms/step - loss: 0.5511 - accuracy: 0.7862 - val_loss: 1.0076 - val_accuracy: 0.6646\n",
            "Epoch 12/100\n",
            "513/513 [==============================] - 78s 152ms/step - loss: 0.4857 - accuracy: 0.8104 - val_loss: 1.1875 - val_accuracy: 0.6489\n",
            "Epoch 13/100\n",
            "513/513 [==============================] - 79s 154ms/step - loss: 0.4389 - accuracy: 0.8264 - val_loss: 1.8150 - val_accuracy: 0.5895\n",
            "Epoch 14/100\n",
            "513/513 [==============================] - 78s 151ms/step - loss: 0.5643 - accuracy: 0.7963 - val_loss: 1.1531 - val_accuracy: 0.6544\n",
            "Epoch 15/100\n",
            "513/513 [==============================] - 78s 151ms/step - loss: 0.4255 - accuracy: 0.8375 - val_loss: 1.2241 - val_accuracy: 0.6396\n",
            "Epoch 16/100\n",
            "513/513 [==============================] - 78s 152ms/step - loss: 0.4465 - accuracy: 0.8274 - val_loss: 1.0683 - val_accuracy: 0.6724\n",
            "Epoch 17/100\n",
            "513/513 [==============================] - 78s 152ms/step - loss: 0.4514 - accuracy: 0.8315 - val_loss: 1.2443 - val_accuracy: 0.6638\n",
            "Epoch 18/100\n",
            "513/513 [==============================] - 78s 151ms/step - loss: 0.4424 - accuracy: 0.8358 - val_loss: 1.7807 - val_accuracy: 0.6106\n",
            "Epoch 19/100\n",
            "513/513 [==============================] - 78s 151ms/step - loss: 0.4189 - accuracy: 0.8436 - val_loss: 1.5019 - val_accuracy: 0.6427\n",
            "Epoch 20/100\n",
            "513/513 [==============================] - 78s 152ms/step - loss: 0.3965 - accuracy: 0.8530 - val_loss: 1.1644 - val_accuracy: 0.6849\n",
            "Epoch 21/100\n",
            "513/513 [==============================] - 79s 153ms/step - loss: 0.3691 - accuracy: 0.8582 - val_loss: 1.6800 - val_accuracy: 0.6138\n",
            "Epoch 22/100\n",
            "513/513 [==============================] - 79s 154ms/step - loss: 0.4082 - accuracy: 0.8426 - val_loss: 1.3612 - val_accuracy: 0.6474\n",
            "Epoch 23/100\n",
            "513/513 [==============================] - 78s 151ms/step - loss: 0.3610 - accuracy: 0.8645 - val_loss: 1.7818 - val_accuracy: 0.6177\n",
            "Epoch 24/100\n",
            "513/513 [==============================] - 76s 149ms/step - loss: 0.4019 - accuracy: 0.8459 - val_loss: 1.5061 - val_accuracy: 0.6701\n",
            "Epoch 25/100\n",
            "513/513 [==============================] - 77s 150ms/step - loss: 0.3826 - accuracy: 0.8592 - val_loss: 2.5120 - val_accuracy: 0.5731\n",
            "Epoch 26/100\n",
            "513/513 [==============================] - 78s 152ms/step - loss: 0.3624 - accuracy: 0.8612 - val_loss: 1.4681 - val_accuracy: 0.6646\n",
            "Epoch 27/100\n",
            "513/513 [==============================] - 77s 150ms/step - loss: 0.3469 - accuracy: 0.8711 - val_loss: 1.3068 - val_accuracy: 0.6638\n",
            "Epoch 28/100\n",
            "513/513 [==============================] - 77s 150ms/step - loss: 0.3138 - accuracy: 0.8811 - val_loss: 1.2689 - val_accuracy: 0.6724\n",
            "Epoch 29/100\n",
            "513/513 [==============================] - 78s 151ms/step - loss: 0.3684 - accuracy: 0.8633 - val_loss: 1.1555 - val_accuracy: 0.6849\n",
            "Epoch 30/100\n",
            "513/513 [==============================] - 77s 150ms/step - loss: 0.3193 - accuracy: 0.8781 - val_loss: 1.2994 - val_accuracy: 0.6622\n",
            "Epoch 31/100\n",
            "513/513 [==============================] - 77s 149ms/step - loss: 0.4324 - accuracy: 0.8471 - val_loss: 1.6288 - val_accuracy: 0.6357\n",
            "Epoch 32/100\n",
            "513/513 [==============================] - 76s 148ms/step - loss: 0.3411 - accuracy: 0.8731 - val_loss: 1.3643 - val_accuracy: 0.6638\n",
            "Epoch 33/100\n",
            "513/513 [==============================] - 77s 150ms/step - loss: 0.3175 - accuracy: 0.8781 - val_loss: 1.4598 - val_accuracy: 0.6466\n",
            "Epoch 34/100\n",
            "513/513 [==============================] - 76s 149ms/step - loss: 0.3482 - accuracy: 0.8645 - val_loss: 1.2475 - val_accuracy: 0.6591\n",
            "Epoch 35/100\n",
            "513/513 [==============================] - 76s 149ms/step - loss: 0.3606 - accuracy: 0.8690 - val_loss: 1.9778 - val_accuracy: 0.6317\n",
            "Epoch 36/100\n",
            "513/513 [==============================] - 77s 149ms/step - loss: 0.2859 - accuracy: 0.8850 - val_loss: 1.6400 - val_accuracy: 0.6380\n",
            "Epoch 37/100\n",
            "513/513 [==============================] - 78s 152ms/step - loss: 0.3268 - accuracy: 0.8809 - val_loss: 1.3919 - val_accuracy: 0.6701\n",
            "Epoch 38/100\n",
            "513/513 [==============================] - 77s 151ms/step - loss: 0.2935 - accuracy: 0.8897 - val_loss: 2.2728 - val_accuracy: 0.6005\n",
            "Epoch 39/100\n",
            "513/513 [==============================] - 76s 148ms/step - loss: 0.3067 - accuracy: 0.8860 - val_loss: 2.6793 - val_accuracy: 0.5747\n",
            "Epoch 40/100\n",
            "513/513 [==============================] - 76s 149ms/step - loss: 0.2938 - accuracy: 0.8858 - val_loss: 1.6418 - val_accuracy: 0.6505\n",
            "Epoch 41/100\n",
            "513/513 [==============================] - 77s 151ms/step - loss: 0.2766 - accuracy: 0.8967 - val_loss: 1.3692 - val_accuracy: 0.6638\n",
            "Epoch 42/100\n",
            "513/513 [==============================] - 77s 150ms/step - loss: 0.2928 - accuracy: 0.8928 - val_loss: 1.7078 - val_accuracy: 0.6529\n",
            "Epoch 43/100\n",
            "513/513 [==============================] - 77s 150ms/step - loss: 0.3072 - accuracy: 0.8893 - val_loss: 1.3369 - val_accuracy: 0.6701\n",
            "Epoch 44/100\n",
            "513/513 [==============================] - 77s 151ms/step - loss: 0.2653 - accuracy: 0.8922 - val_loss: 1.6380 - val_accuracy: 0.6607\n",
            "Epoch 45/100\n",
            "513/513 [==============================] - 78s 152ms/step - loss: 0.3382 - accuracy: 0.8973 - val_loss: 1.4239 - val_accuracy: 0.6654\n",
            "Epoch 46/100\n",
            "513/513 [==============================] - 78s 151ms/step - loss: 0.2657 - accuracy: 0.9002 - val_loss: 1.5486 - val_accuracy: 0.6575\n",
            "Epoch 47/100\n",
            "513/513 [==============================] - 77s 150ms/step - loss: 0.2951 - accuracy: 0.8967 - val_loss: 1.3570 - val_accuracy: 0.6685\n",
            "Epoch 48/100\n",
            "513/513 [==============================] - 77s 150ms/step - loss: 0.2775 - accuracy: 0.8971 - val_loss: 1.3183 - val_accuracy: 0.6841\n",
            "Epoch 49/100\n",
            "513/513 [==============================] - 77s 151ms/step - loss: 0.3183 - accuracy: 0.8821 - val_loss: 1.3549 - val_accuracy: 0.6724\n",
            "Epoch 50/100\n",
            "513/513 [==============================] - 77s 150ms/step - loss: 0.2741 - accuracy: 0.9002 - val_loss: 1.8379 - val_accuracy: 0.6380\n",
            "Epoch 51/100\n",
            "513/513 [==============================] - 77s 150ms/step - loss: 0.2735 - accuracy: 0.9026 - val_loss: 1.6884 - val_accuracy: 0.6552\n",
            "Epoch 52/100\n",
            "513/513 [==============================] - 77s 149ms/step - loss: 0.2781 - accuracy: 0.8938 - val_loss: 1.5319 - val_accuracy: 0.6724\n",
            "Epoch 53/100\n",
            "513/513 [==============================] - 77s 151ms/step - loss: 0.2682 - accuracy: 0.9041 - val_loss: 1.5318 - val_accuracy: 0.6661\n",
            "Epoch 54/100\n",
            "513/513 [==============================] - 77s 151ms/step - loss: 0.3072 - accuracy: 0.8905 - val_loss: 1.7332 - val_accuracy: 0.6521\n",
            "Epoch 55/100\n",
            "513/513 [==============================] - 77s 151ms/step - loss: 0.3499 - accuracy: 0.8830 - val_loss: 2.9199 - val_accuracy: 0.5770\n",
            "Epoch 56/100\n",
            "513/513 [==============================] - 77s 150ms/step - loss: 0.2444 - accuracy: 0.9061 - val_loss: 1.5566 - val_accuracy: 0.6701\n",
            "Epoch 57/100\n",
            "513/513 [==============================] - 79s 154ms/step - loss: 0.2497 - accuracy: 0.9112 - val_loss: 3.3563 - val_accuracy: 0.5637\n",
            "Epoch 58/100\n",
            "513/513 [==============================] - 78s 151ms/step - loss: 0.3057 - accuracy: 0.8922 - val_loss: 2.0321 - val_accuracy: 0.6458\n",
            "Epoch 59/100\n",
            "513/513 [==============================] - 77s 150ms/step - loss: 0.2266 - accuracy: 0.9154 - val_loss: 2.1560 - val_accuracy: 0.6271\n",
            "Epoch 60/100\n",
            "513/513 [==============================] - 77s 150ms/step - loss: 0.2857 - accuracy: 0.9010 - val_loss: 1.9419 - val_accuracy: 0.6317\n",
            "Epoch 61/100\n",
            "513/513 [==============================] - 78s 151ms/step - loss: 0.2684 - accuracy: 0.9035 - val_loss: 1.6404 - val_accuracy: 0.6646\n",
            "Epoch 62/100\n",
            "513/513 [==============================] - 77s 150ms/step - loss: 0.2854 - accuracy: 0.8987 - val_loss: 1.6988 - val_accuracy: 0.6622\n",
            "Epoch 63/100\n",
            "513/513 [==============================] - 77s 151ms/step - loss: 0.2801 - accuracy: 0.9000 - val_loss: 1.5340 - val_accuracy: 0.6724\n",
            "Epoch 64/100\n",
            "513/513 [==============================] - 76s 149ms/step - loss: 0.2380 - accuracy: 0.9080 - val_loss: 1.7410 - val_accuracy: 0.6661\n",
            "Epoch 65/100\n",
            "513/513 [==============================] - 77s 150ms/step - loss: 0.2712 - accuracy: 0.9028 - val_loss: 1.5583 - val_accuracy: 0.6787\n",
            "Epoch 66/100\n",
            "513/513 [==============================] - 77s 149ms/step - loss: 0.2456 - accuracy: 0.9170 - val_loss: 1.9613 - val_accuracy: 0.6552\n",
            "Epoch 67/100\n",
            "513/513 [==============================] - 76s 149ms/step - loss: 0.3101 - accuracy: 0.8889 - val_loss: 2.0174 - val_accuracy: 0.6419\n",
            "Epoch 68/100\n",
            "513/513 [==============================] - 77s 149ms/step - loss: 0.2647 - accuracy: 0.9033 - val_loss: 1.9753 - val_accuracy: 0.6294\n",
            "Epoch 69/100\n",
            "513/513 [==============================] - 77s 150ms/step - loss: 0.3146 - accuracy: 0.8951 - val_loss: 2.5126 - val_accuracy: 0.6059\n",
            "Epoch 70/100\n",
            "513/513 [==============================] - 77s 149ms/step - loss: 0.2461 - accuracy: 0.9084 - val_loss: 1.6936 - val_accuracy: 0.6615\n",
            "Epoch 71/100\n",
            "513/513 [==============================] - 77s 149ms/step - loss: 0.2065 - accuracy: 0.9281 - val_loss: 1.6642 - val_accuracy: 0.6622\n",
            "Epoch 72/100\n",
            "513/513 [==============================] - 76s 149ms/step - loss: 0.2792 - accuracy: 0.9117 - val_loss: 1.8879 - val_accuracy: 0.6654\n",
            "Epoch 73/100\n",
            "513/513 [==============================] - 77s 149ms/step - loss: 0.2356 - accuracy: 0.9119 - val_loss: 1.5878 - val_accuracy: 0.6677\n",
            "Epoch 74/100\n",
            "513/513 [==============================] - 76s 148ms/step - loss: 0.2499 - accuracy: 0.9131 - val_loss: 1.8912 - val_accuracy: 0.6638\n",
            "Epoch 75/100\n",
            "513/513 [==============================] - 76s 149ms/step - loss: 0.2186 - accuracy: 0.9221 - val_loss: 1.6325 - val_accuracy: 0.6661\n",
            "Epoch 76/100\n",
            "513/513 [==============================] - 77s 149ms/step - loss: 0.2939 - accuracy: 0.9041 - val_loss: 2.4827 - val_accuracy: 0.6333\n",
            "Epoch 77/100\n",
            "513/513 [==============================] - 77s 151ms/step - loss: 0.2200 - accuracy: 0.9238 - val_loss: 1.7283 - val_accuracy: 0.6654\n",
            "Epoch 78/100\n",
            "513/513 [==============================] - 76s 149ms/step - loss: 0.2405 - accuracy: 0.9149 - val_loss: 1.9459 - val_accuracy: 0.6521\n",
            "Epoch 79/100\n",
            "513/513 [==============================] - 76s 149ms/step - loss: 0.3040 - accuracy: 0.9078 - val_loss: 2.1013 - val_accuracy: 0.6607\n",
            "Epoch 80/100\n",
            "513/513 [==============================] - 76s 149ms/step - loss: 0.2102 - accuracy: 0.9250 - val_loss: 2.1504 - val_accuracy: 0.6450\n",
            "Epoch 81/100\n",
            "513/513 [==============================] - 77s 150ms/step - loss: 0.2050 - accuracy: 0.9227 - val_loss: 2.0598 - val_accuracy: 0.6396\n",
            "Epoch 82/100\n",
            "513/513 [==============================] - 77s 149ms/step - loss: 0.2040 - accuracy: 0.9248 - val_loss: 1.7234 - val_accuracy: 0.6802\n",
            "Epoch 83/100\n",
            "513/513 [==============================] - 77s 150ms/step - loss: 0.2646 - accuracy: 0.9117 - val_loss: 2.8316 - val_accuracy: 0.6036\n",
            "Epoch 84/100\n",
            "513/513 [==============================] - 77s 150ms/step - loss: 0.2447 - accuracy: 0.9110 - val_loss: 1.9330 - val_accuracy: 0.6810\n",
            "Epoch 85/100\n",
            "513/513 [==============================] - 79s 153ms/step - loss: 0.2537 - accuracy: 0.9164 - val_loss: 1.7783 - val_accuracy: 0.6810\n",
            "Epoch 86/100\n",
            "513/513 [==============================] - 78s 152ms/step - loss: 0.1947 - accuracy: 0.9303 - val_loss: 1.9671 - val_accuracy: 0.6732\n",
            "Epoch 87/100\n",
            "513/513 [==============================] - 77s 151ms/step - loss: 0.2388 - accuracy: 0.9158 - val_loss: 2.2943 - val_accuracy: 0.6403\n",
            "Epoch 88/100\n",
            "513/513 [==============================] - 77s 150ms/step - loss: 0.1858 - accuracy: 0.9332 - val_loss: 2.0054 - val_accuracy: 0.6599\n",
            "Epoch 89/100\n",
            "513/513 [==============================] - 78s 152ms/step - loss: 0.1867 - accuracy: 0.9295 - val_loss: 1.6872 - val_accuracy: 0.6591\n",
            "Epoch 90/100\n",
            "513/513 [==============================] - 77s 150ms/step - loss: 0.2071 - accuracy: 0.9225 - val_loss: 1.6595 - val_accuracy: 0.6615\n",
            "Epoch 91/100\n",
            "513/513 [==============================] - 77s 150ms/step - loss: 0.3023 - accuracy: 0.9045 - val_loss: 1.8993 - val_accuracy: 0.6552\n",
            "Epoch 92/100\n",
            "513/513 [==============================] - 77s 150ms/step - loss: 0.2634 - accuracy: 0.9147 - val_loss: 2.2861 - val_accuracy: 0.6521\n",
            "Epoch 93/100\n",
            "513/513 [==============================] - 78s 151ms/step - loss: 0.2340 - accuracy: 0.9203 - val_loss: 2.1747 - val_accuracy: 0.6513\n",
            "Epoch 94/100\n",
            "513/513 [==============================] - 77s 151ms/step - loss: 0.1957 - accuracy: 0.9295 - val_loss: 2.0355 - val_accuracy: 0.6630\n",
            "Epoch 95/100\n",
            "513/513 [==============================] - 77s 151ms/step - loss: 0.2207 - accuracy: 0.9209 - val_loss: 3.2837 - val_accuracy: 0.5950\n",
            "Epoch 96/100\n",
            "513/513 [==============================] - 77s 151ms/step - loss: 0.2073 - accuracy: 0.9258 - val_loss: 1.6690 - val_accuracy: 0.6802\n",
            "Epoch 97/100\n",
            "513/513 [==============================] - 78s 152ms/step - loss: 0.2108 - accuracy: 0.9272 - val_loss: 1.8533 - val_accuracy: 0.6677\n",
            "Epoch 98/100\n",
            "513/513 [==============================] - 77s 151ms/step - loss: 0.2299 - accuracy: 0.9192 - val_loss: 1.8330 - val_accuracy: 0.6669\n",
            "Epoch 99/100\n",
            "513/513 [==============================] - 77s 150ms/step - loss: 0.2244 - accuracy: 0.9186 - val_loss: 2.2318 - val_accuracy: 0.6521\n",
            "Epoch 100/100\n",
            "513/513 [==============================] - 77s 150ms/step - loss: 0.1581 - accuracy: 0.9402 - val_loss: 1.6906 - val_accuracy: 0.6959\n"
          ]
        }
      ]
    },
    {
      "cell_type": "code",
      "source": [
        "import matplotlib.pyplot as plt\n",
        "# plot the loss\n",
        "plt.plot(r.history['loss'], label='train loss')\n",
        "plt.plot(r.history['val_loss'], label='val loss')\n",
        "plt.legend()\n",
        "plt.show()\n",
        "plt.savefig('LossVal_loss')\n",
        "\n",
        "# plot the accuracy\n",
        "plt.plot(r.history['accuracy'], label='train acc')\n",
        "plt.plot(r.history['val_accuracy'], label='val acc')\n",
        "plt.legend()\n",
        "plt.show()\n",
        "plt.savefig('AccVal_acc')"
      ],
      "metadata": {
        "colab": {
          "base_uri": "https://localhost:8080/",
          "height": 533
        },
        "id": "6YzG03Atgev-",
        "outputId": "8b270955-3f1d-4a35-e496-18cc910e761e"
      },
      "execution_count": 22,
      "outputs": [
        {
          "output_type": "display_data",
          "data": {
            "text/plain": [
              "<Figure size 432x288 with 1 Axes>"
            ],
            "image/png": "[encoded data removed]"
          },
          "metadata": {
            "needs_background": "light"
          }
        },
        {
          "output_type": "display_data",
          "data": {
            "text/plain": [
              "<Figure size 432x288 with 1 Axes>"
            ],
            "image/png": "[encoded data removed]"
          },
          "metadata": {
            "needs_background": "light"
          }
        },
        {
          "output_type": "display_data",
          "data": {
            "text/plain": [
              "<Figure size 432x288 with 0 Axes>"
            ]
          },
          "metadata": {}
        }
      ]
    }
  ]
}